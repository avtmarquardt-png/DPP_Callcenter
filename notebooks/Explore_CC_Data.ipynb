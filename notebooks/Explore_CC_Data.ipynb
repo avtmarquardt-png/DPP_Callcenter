{
 "cells": [],
 "metadata": {
  "kernelspec": {
   "display_name": "dpp (3.12.11)",
   "language": "python",
   "name": "python3"
  },
  "language_info": {
   "name": "python",
   "version": "3.12.11"
  }
 },
 "nbformat": 4,
 "nbformat_minor": 5
}
