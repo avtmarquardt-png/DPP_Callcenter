{
 "cells": [
  {
   "cell_type": "code",
   "execution_count": 2,
   "id": "81f4d3c3",
   "metadata": {},
   "outputs": [
    {
     "name": "stderr",
     "output_type": "stream",
     "text": [
      "c:\\Users\\avtma\\Documents\\Python\\DPP_Callcenter\\.venv\\Lib\\site-packages\\tqdm\\auto.py:21: TqdmWarning: IProgress not found. Please update jupyter and ipywidgets. See https://ipywidgets.readthedocs.io/en/stable/user_install.html\n",
      "  from .autonotebook import tqdm as notebook_tqdm\n"
     ]
    }
   ],
   "source": [
    "import seaborn as sns\n",
    "import matplotlib.pyplot as plt\n",
    "import pandas as pd\n",
    "import numpy as np\n",
    "\n",
    "from dpp.data import load_from_kaggle\n",
    "import dpp.little_helper_dan as lh"
   ]
  },
  {
   "cell_type": "code",
   "execution_count": 3,
   "id": "014523c2",
   "metadata": {},
   "outputs": [
    {
     "name": "stdout",
     "output_type": "stream",
     "text": [
      "Downloading from https://www.kaggle.com/api/v1/datasets/download/abdelfatahfouad/call-center-performance-report?dataset_version_number=2...\n"
     ]
    },
    {
     "name": "stderr",
     "output_type": "stream",
     "text": [
      "100%|██████████| 1.19M/1.19M [00:00<00:00, 2.70MB/s]"
     ]
    },
    {
     "name": "stdout",
     "output_type": "stream",
     "text": [
      "Extracting files...\n",
      "Loading dataset from C:\\Users\\avtma\\.cache\\kagglehub\\datasets\\abdelfatahfouad\\call-center-performance-report\\versions\\2 to ../data/raw\\call-center-performance-report\n",
      "Moving file: C:\\Users\\avtma\\.cache\\kagglehub\\datasets\\abdelfatahfouad\\call-center-performance-report\\versions\\2\\Auxs.xlsx to c:\\Users\\avtma\\Documents\\Python\\DPP_Callcenter\\notebooks\\../data/raw\\call-center-performance-report\n",
      "Moving file: C:\\Users\\avtma\\.cache\\kagglehub\\datasets\\abdelfatahfouad\\call-center-performance-report\\versions\\2\\Call Center - Dataset.csv to c:\\Users\\avtma\\Documents\\Python\\DPP_Callcenter\\notebooks\\../data/raw\\call-center-performance-report\n",
      "Moving file: C:\\Users\\avtma\\.cache\\kagglehub\\datasets\\abdelfatahfouad\\call-center-performance-report\\versions\\2\\Login ID.xlsx to c:\\Users\\avtma\\Documents\\Python\\DPP_Callcenter\\notebooks\\../data/raw\\call-center-performance-report\n",
      "Files moved to '../data/raw\\call-center-performance-report' directory.\n"
     ]
    },
    {
     "name": "stderr",
     "output_type": "stream",
     "text": [
      "\n"
     ]
    }
   ],
   "source": [
    "#dataset_link = \"shriyashjagtap/esg-and-financial-performance-dataset\" # replace with your dataset link from Kaggle \n",
    "#dataset_link = \"donovanbangs/call-centre-queue-simulation\" # replace with your dataset link from Kaggle \n",
    "dataset_link = \"abdelfatahfouad/call-center-performance-report\" # replace with your dataset link from Kaggle \n",
    "\n",
    "destination = \"../data/raw\"\n",
    "destination = \"../data/raw\"\n",
    "\n",
    "dataset_name = dataset_link.split(\"/\")[-1]\n",
    "\n",
    "files = load_from_kaggle(\n",
    "    dataset_link=dataset_link, \n",
    "    destination=destination,\n",
    "    )"
   ]
  },
  {
   "cell_type": "code",
   "execution_count": 9,
   "id": "01645498",
   "metadata": {},
   "outputs": [
    {
     "data": {
      "text/plain": [
       "['simulated_call_centre.csv']"
      ]
     },
     "execution_count": 9,
     "metadata": {},
     "output_type": "execute_result"
    }
   ],
   "source": [
    "files"
   ]
  },
  {
   "cell_type": "code",
   "execution_count": 13,
   "id": "92bb5c04",
   "metadata": {},
   "outputs": [
    {
     "data": {
      "text/html": [
       "<div>\n",
       "<style scoped>\n",
       "    .dataframe tbody tr th:only-of-type {\n",
       "        vertical-align: middle;\n",
       "    }\n",
       "\n",
       "    .dataframe tbody tr th {\n",
       "        vertical-align: top;\n",
       "    }\n",
       "\n",
       "    .dataframe thead th {\n",
       "        text-align: right;\n",
       "    }\n",
       "</style>\n",
       "<table border=\"1\" class=\"dataframe\">\n",
       "  <thead>\n",
       "    <tr style=\"text-align: right;\">\n",
       "      <th></th>\n",
       "      <th>call_id</th>\n",
       "      <th>date</th>\n",
       "      <th>daily_caller</th>\n",
       "      <th>call_started</th>\n",
       "      <th>call_answered</th>\n",
       "      <th>call_ended</th>\n",
       "      <th>wait_length</th>\n",
       "      <th>service_length</th>\n",
       "      <th>meets_standard</th>\n",
       "    </tr>\n",
       "  </thead>\n",
       "  <tbody>\n",
       "    <tr>\n",
       "      <th>0</th>\n",
       "      <td>1</td>\n",
       "      <td>2021-01-01</td>\n",
       "      <td>1</td>\n",
       "      <td>8:00:00 AM</td>\n",
       "      <td>8:00:00 AM</td>\n",
       "      <td>8:14:22 AM</td>\n",
       "      <td>0</td>\n",
       "      <td>863</td>\n",
       "      <td>True</td>\n",
       "    </tr>\n",
       "    <tr>\n",
       "      <th>1</th>\n",
       "      <td>2</td>\n",
       "      <td>2021-01-01</td>\n",
       "      <td>2</td>\n",
       "      <td>8:02:42 AM</td>\n",
       "      <td>8:02:42 AM</td>\n",
       "      <td>8:07:31 AM</td>\n",
       "      <td>0</td>\n",
       "      <td>289</td>\n",
       "      <td>True</td>\n",
       "    </tr>\n",
       "    <tr>\n",
       "      <th>2</th>\n",
       "      <td>3</td>\n",
       "      <td>2021-01-01</td>\n",
       "      <td>3</td>\n",
       "      <td>8:08:24 AM</td>\n",
       "      <td>8:08:24 AM</td>\n",
       "      <td>8:10:13 AM</td>\n",
       "      <td>0</td>\n",
       "      <td>108</td>\n",
       "      <td>True</td>\n",
       "    </tr>\n",
       "    <tr>\n",
       "      <th>3</th>\n",
       "      <td>4</td>\n",
       "      <td>2021-01-01</td>\n",
       "      <td>4</td>\n",
       "      <td>8:09:37 AM</td>\n",
       "      <td>8:09:37 AM</td>\n",
       "      <td>8:13:45 AM</td>\n",
       "      <td>0</td>\n",
       "      <td>247</td>\n",
       "      <td>True</td>\n",
       "    </tr>\n",
       "    <tr>\n",
       "      <th>4</th>\n",
       "      <td>5</td>\n",
       "      <td>2021-01-01</td>\n",
       "      <td>5</td>\n",
       "      <td>8:11:10 AM</td>\n",
       "      <td>8:11:10 AM</td>\n",
       "      <td>8:15:28 AM</td>\n",
       "      <td>0</td>\n",
       "      <td>258</td>\n",
       "      <td>True</td>\n",
       "    </tr>\n",
       "  </tbody>\n",
       "</table>\n",
       "</div>"
      ],
      "text/plain": [
       "   call_id        date  daily_caller call_started call_answered  call_ended  \\\n",
       "0        1  2021-01-01             1   8:00:00 AM    8:00:00 AM  8:14:22 AM   \n",
       "1        2  2021-01-01             2   8:02:42 AM    8:02:42 AM  8:07:31 AM   \n",
       "2        3  2021-01-01             3   8:08:24 AM    8:08:24 AM  8:10:13 AM   \n",
       "3        4  2021-01-01             4   8:09:37 AM    8:09:37 AM  8:13:45 AM   \n",
       "4        5  2021-01-01             5   8:11:10 AM    8:11:10 AM  8:15:28 AM   \n",
       "\n",
       "   wait_length  service_length  meets_standard  \n",
       "0            0             863            True  \n",
       "1            0             289            True  \n",
       "2            0             108            True  \n",
       "3            0             247            True  \n",
       "4            0             258            True  "
      ]
     },
     "execution_count": 13,
     "metadata": {},
     "output_type": "execute_result"
    }
   ],
   "source": [
    "df = pd.read_csv(\"/\".join([\"../data/raw/\", dataset_name, files[0]]))\n",
    "df.head()"
   ]
  },
  {
   "cell_type": "code",
   "execution_count": 14,
   "id": "46ca62a1",
   "metadata": {},
   "outputs": [
    {
     "data": {
      "text/plain": [
       "'Shape'"
      ]
     },
     "metadata": {},
     "output_type": "display_data"
    },
    {
     "data": {
      "text/plain": [
       "(51708, 9)"
      ]
     },
     "metadata": {},
     "output_type": "display_data"
    },
    {
     "data": {
      "text/plain": [
       "'Description'"
      ]
     },
     "metadata": {},
     "output_type": "display_data"
    },
    {
     "data": {
      "text/html": [
       "<div>\n",
       "<style scoped>\n",
       "    .dataframe tbody tr th:only-of-type {\n",
       "        vertical-align: middle;\n",
       "    }\n",
       "\n",
       "    .dataframe tbody tr th {\n",
       "        vertical-align: top;\n",
       "    }\n",
       "\n",
       "    .dataframe thead th {\n",
       "        text-align: right;\n",
       "    }\n",
       "</style>\n",
       "<table border=\"1\" class=\"dataframe\">\n",
       "  <thead>\n",
       "    <tr style=\"text-align: right;\">\n",
       "      <th></th>\n",
       "      <th>call_id</th>\n",
       "      <th>daily_caller</th>\n",
       "      <th>wait_length</th>\n",
       "      <th>service_length</th>\n",
       "    </tr>\n",
       "  </thead>\n",
       "  <tbody>\n",
       "    <tr>\n",
       "      <th>count</th>\n",
       "      <td>51708.00</td>\n",
       "      <td>51708.00</td>\n",
       "      <td>51708.00</td>\n",
       "      <td>51708.00</td>\n",
       "    </tr>\n",
       "    <tr>\n",
       "      <th>mean</th>\n",
       "      <td>25854.50</td>\n",
       "      <td>104.19</td>\n",
       "      <td>17.03</td>\n",
       "      <td>299.10</td>\n",
       "    </tr>\n",
       "    <tr>\n",
       "      <th>std</th>\n",
       "      <td>14926.96</td>\n",
       "      <td>64.95</td>\n",
       "      <td>64.06</td>\n",
       "      <td>299.87</td>\n",
       "    </tr>\n",
       "    <tr>\n",
       "      <th>min</th>\n",
       "      <td>1.00</td>\n",
       "      <td>1.00</td>\n",
       "      <td>0.00</td>\n",
       "      <td>0.00</td>\n",
       "    </tr>\n",
       "    <tr>\n",
       "      <th>25%</th>\n",
       "      <td>12927.75</td>\n",
       "      <td>50.00</td>\n",
       "      <td>0.00</td>\n",
       "      <td>86.00</td>\n",
       "    </tr>\n",
       "    <tr>\n",
       "      <th>50%</th>\n",
       "      <td>25854.50</td>\n",
       "      <td>100.00</td>\n",
       "      <td>0.00</td>\n",
       "      <td>208.00</td>\n",
       "    </tr>\n",
       "    <tr>\n",
       "      <th>75%</th>\n",
       "      <td>38781.25</td>\n",
       "      <td>150.00</td>\n",
       "      <td>0.00</td>\n",
       "      <td>414.00</td>\n",
       "    </tr>\n",
       "    <tr>\n",
       "      <th>max</th>\n",
       "      <td>51708.00</td>\n",
       "      <td>297.00</td>\n",
       "      <td>983.00</td>\n",
       "      <td>3110.00</td>\n",
       "    </tr>\n",
       "  </tbody>\n",
       "</table>\n",
       "</div>"
      ],
      "text/plain": [
       "        call_id  daily_caller  wait_length  service_length\n",
       "count  51708.00      51708.00     51708.00        51708.00\n",
       "mean   25854.50        104.19        17.03          299.10\n",
       "std    14926.96         64.95        64.06          299.87\n",
       "min        1.00          1.00         0.00            0.00\n",
       "25%    12927.75         50.00         0.00           86.00\n",
       "50%    25854.50        100.00         0.00          208.00\n",
       "75%    38781.25        150.00         0.00          414.00\n",
       "max    51708.00        297.00       983.00         3110.00"
      ]
     },
     "metadata": {},
     "output_type": "display_data"
    },
    {
     "data": {
      "text/plain": [
       "'Duplicates'"
      ]
     },
     "metadata": {},
     "output_type": "display_data"
    },
    {
     "data": {
      "text/plain": [
       "np.int64(0)"
      ]
     },
     "metadata": {},
     "output_type": "display_data"
    },
    {
     "data": {
      "text/html": [
       "<div>\n",
       "<style scoped>\n",
       "    .dataframe tbody tr th:only-of-type {\n",
       "        vertical-align: middle;\n",
       "    }\n",
       "\n",
       "    .dataframe tbody tr th {\n",
       "        vertical-align: top;\n",
       "    }\n",
       "\n",
       "    .dataframe thead th {\n",
       "        text-align: right;\n",
       "    }\n",
       "</style>\n",
       "<table border=\"1\" class=\"dataframe\">\n",
       "  <thead>\n",
       "    <tr style=\"text-align: right;\">\n",
       "      <th></th>\n",
       "      <th>Data Types</th>\n",
       "      <th>Missing Values</th>\n",
       "      <th>Unique Values</th>\n",
       "      <th>Sample Values</th>\n",
       "    </tr>\n",
       "  </thead>\n",
       "  <tbody>\n",
       "    <tr>\n",
       "      <th>call_id</th>\n",
       "      <td>int64</td>\n",
       "      <td>0</td>\n",
       "      <td>51708</td>\n",
       "      <td>[13697, 42503, 45714]</td>\n",
       "    </tr>\n",
       "    <tr>\n",
       "      <th>date</th>\n",
       "      <td>object</td>\n",
       "      <td>0</td>\n",
       "      <td>261</td>\n",
       "      <td>[2021-05-25, 2021-03-15, 2021-06-15]</td>\n",
       "    </tr>\n",
       "    <tr>\n",
       "      <th>daily_caller</th>\n",
       "      <td>int64</td>\n",
       "      <td>0</td>\n",
       "      <td>297</td>\n",
       "      <td>[144, 9, 95]</td>\n",
       "    </tr>\n",
       "    <tr>\n",
       "      <th>call_started</th>\n",
       "      <td>object</td>\n",
       "      <td>0</td>\n",
       "      <td>27403</td>\n",
       "      <td>[3:39:55 PM, 2:23:29 PM, 3:54:37 PM]</td>\n",
       "    </tr>\n",
       "    <tr>\n",
       "      <th>call_answered</th>\n",
       "      <td>object</td>\n",
       "      <td>0</td>\n",
       "      <td>27366</td>\n",
       "      <td>[4:43:00 PM, 1:09:21 PM, 9:10:55 AM]</td>\n",
       "    </tr>\n",
       "    <tr>\n",
       "      <th>call_ended</th>\n",
       "      <td>object</td>\n",
       "      <td>0</td>\n",
       "      <td>27486</td>\n",
       "      <td>[8:20:01 AM, 9:11:08 AM, 2:48:52 PM]</td>\n",
       "    </tr>\n",
       "    <tr>\n",
       "      <th>wait_length</th>\n",
       "      <td>int64</td>\n",
       "      <td>0</td>\n",
       "      <td>575</td>\n",
       "      <td>[0, 143, 0]</td>\n",
       "    </tr>\n",
       "    <tr>\n",
       "      <th>service_length</th>\n",
       "      <td>int64</td>\n",
       "      <td>0</td>\n",
       "      <td>1719</td>\n",
       "      <td>[43, 304, 24]</td>\n",
       "    </tr>\n",
       "    <tr>\n",
       "      <th>meets_standard</th>\n",
       "      <td>bool</td>\n",
       "      <td>0</td>\n",
       "      <td>2</td>\n",
       "      <td>[True, True, True]</td>\n",
       "    </tr>\n",
       "  </tbody>\n",
       "</table>\n",
       "</div>"
      ],
      "text/plain": [
       "               Data Types  Missing Values  Unique Values  \\\n",
       "call_id             int64               0          51708   \n",
       "date               object               0            261   \n",
       "daily_caller        int64               0            297   \n",
       "call_started       object               0          27403   \n",
       "call_answered      object               0          27366   \n",
       "call_ended         object               0          27486   \n",
       "wait_length         int64               0            575   \n",
       "service_length      int64               0           1719   \n",
       "meets_standard       bool               0              2   \n",
       "\n",
       "                                       Sample Values  \n",
       "call_id                        [13697, 42503, 45714]  \n",
       "date            [2021-05-25, 2021-03-15, 2021-06-15]  \n",
       "daily_caller                            [144, 9, 95]  \n",
       "call_started    [3:39:55 PM, 2:23:29 PM, 3:54:37 PM]  \n",
       "call_answered   [4:43:00 PM, 1:09:21 PM, 9:10:55 AM]  \n",
       "call_ended      [8:20:01 AM, 9:11:08 AM, 2:48:52 PM]  \n",
       "wait_length                              [0, 143, 0]  \n",
       "service_length                         [43, 304, 24]  \n",
       "meets_standard                    [True, True, True]  "
      ]
     },
     "execution_count": 14,
     "metadata": {},
     "output_type": "execute_result"
    }
   ],
   "source": [
    "display(\n",
    "    \"Shape\",\n",
    "    df.shape,\n",
    "    \"Description\",\n",
    "    df.describe().round(2),\n",
    "    \"Duplicates\",\n",
    "    df.duplicated().sum(),\n",
    ")\n",
    "\n",
    "\n",
    "pd.DataFrame(\n",
    "    {\n",
    "        \"Data Types\": df.dtypes,\n",
    "        \"Missing Values\": df.isnull().sum(),\n",
    "        \"Unique Values\": df.nunique(),\n",
    "        \"Sample Values\": [df[col].sample(3).tolist() for col in df.columns]\n",
    "    })\n"
   ]
  },
  {
   "cell_type": "code",
   "execution_count": 15,
   "id": "fda36560",
   "metadata": {},
   "outputs": [
    {
     "data": {
      "image/png": "[encoded data removed]",
      "text/plain": [
       "<Figure size 640x480 with 2 Axes>"
      ]
     },
     "metadata": {},
     "output_type": "display_data"
    }
   ],
   "source": [
    "sns.heatmap(df.corr(numeric_only=True), annot=True, cmap=\"coolwarm\", center=0);"
   ]
  },
  {
   "cell_type": "code",
   "execution_count": 23,
   "id": "822a1800",
   "metadata": {},
   "outputs": [
    {
     "data": {
      "text/html": [
       "<div>\n",
       "<style scoped>\n",
       "    .dataframe tbody tr th:only-of-type {\n",
       "        vertical-align: middle;\n",
       "    }\n",
       "\n",
       "    .dataframe tbody tr th {\n",
       "        vertical-align: top;\n",
       "    }\n",
       "\n",
       "    .dataframe thead th {\n",
       "        text-align: right;\n",
       "    }\n",
       "</style>\n",
       "<table border=\"1\" class=\"dataframe\">\n",
       "  <thead>\n",
       "    <tr style=\"text-align: right;\">\n",
       "      <th></th>\n",
       "      <th>dtype</th>\n",
       "      <th>total</th>\n",
       "      <th>missing_n</th>\n",
       "      <th>missing_%</th>\n",
       "      <th>uniques_n</th>\n",
       "      <th>uniques</th>\n",
       "    </tr>\n",
       "  </thead>\n",
       "  <tbody>\n",
       "    <tr>\n",
       "      <th>call_id</th>\n",
       "      <td>int64</td>\n",
       "      <td>51708</td>\n",
       "      <td>0</td>\n",
       "      <td>0.0</td>\n",
       "      <td>51708</td>\n",
       "      <td>[1, 2, 3, 4, 5, 6, 7, 8, 9, 10, 11, 12, 13, 14...</td>\n",
       "    </tr>\n",
       "    <tr>\n",
       "      <th>date</th>\n",
       "      <td>object</td>\n",
       "      <td>51708</td>\n",
       "      <td>0</td>\n",
       "      <td>0.0</td>\n",
       "      <td>261</td>\n",
       "      <td>[2021-01-01, 2021-01-04, 2021-01-05, 2021-01-0...</td>\n",
       "    </tr>\n",
       "    <tr>\n",
       "      <th>daily_caller</th>\n",
       "      <td>int64</td>\n",
       "      <td>51708</td>\n",
       "      <td>0</td>\n",
       "      <td>0.0</td>\n",
       "      <td>297</td>\n",
       "      <td>[1, 2, 3, 4, 5, 6, 7, 8, 9, 10, 11, 12, 13, 14...</td>\n",
       "    </tr>\n",
       "    <tr>\n",
       "      <th>call_started</th>\n",
       "      <td>object</td>\n",
       "      <td>51708</td>\n",
       "      <td>0</td>\n",
       "      <td>0.0</td>\n",
       "      <td>27403</td>\n",
       "      <td>[8:00:00 AM, 8:02:42 AM, 8:08:24 AM, 8:09:37 A...</td>\n",
       "    </tr>\n",
       "    <tr>\n",
       "      <th>call_answered</th>\n",
       "      <td>object</td>\n",
       "      <td>51708</td>\n",
       "      <td>0</td>\n",
       "      <td>0.0</td>\n",
       "      <td>27366</td>\n",
       "      <td>[8:00:00 AM, 8:02:42 AM, 8:08:24 AM, 8:09:37 A...</td>\n",
       "    </tr>\n",
       "    <tr>\n",
       "      <th>call_ended</th>\n",
       "      <td>object</td>\n",
       "      <td>51708</td>\n",
       "      <td>0</td>\n",
       "      <td>0.0</td>\n",
       "      <td>27486</td>\n",
       "      <td>[8:14:22 AM, 8:07:31 AM, 8:10:13 AM, 8:13:45 A...</td>\n",
       "    </tr>\n",
       "    <tr>\n",
       "      <th>wait_length</th>\n",
       "      <td>int64</td>\n",
       "      <td>51708</td>\n",
       "      <td>0</td>\n",
       "      <td>0.0</td>\n",
       "      <td>575</td>\n",
       "      <td>[0, 72, 67, 34, 149, 68, 148, 35, 166, 146, 56...</td>\n",
       "    </tr>\n",
       "    <tr>\n",
       "      <th>service_length</th>\n",
       "      <td>int64</td>\n",
       "      <td>51708</td>\n",
       "      <td>0</td>\n",
       "      <td>0.0</td>\n",
       "      <td>1719</td>\n",
       "      <td>[863, 289, 108, 247, 258, 340, 656, 341, 23, 5...</td>\n",
       "    </tr>\n",
       "    <tr>\n",
       "      <th>meets_standard</th>\n",
       "      <td>bool</td>\n",
       "      <td>51708</td>\n",
       "      <td>0</td>\n",
       "      <td>0.0</td>\n",
       "      <td>2</td>\n",
       "      <td>[True, False]</td>\n",
       "    </tr>\n",
       "  </tbody>\n",
       "</table>\n",
       "</div>"
      ],
      "text/plain": [
       "                 dtype  total  missing_n  missing_%  uniques_n  \\\n",
       "call_id          int64  51708          0        0.0      51708   \n",
       "date            object  51708          0        0.0        261   \n",
       "daily_caller     int64  51708          0        0.0        297   \n",
       "call_started    object  51708          0        0.0      27403   \n",
       "call_answered   object  51708          0        0.0      27366   \n",
       "call_ended      object  51708          0        0.0      27486   \n",
       "wait_length      int64  51708          0        0.0        575   \n",
       "service_length   int64  51708          0        0.0       1719   \n",
       "meets_standard    bool  51708          0        0.0          2   \n",
       "\n",
       "                                                          uniques  \n",
       "call_id         [1, 2, 3, 4, 5, 6, 7, 8, 9, 10, 11, 12, 13, 14...  \n",
       "date            [2021-01-01, 2021-01-04, 2021-01-05, 2021-01-0...  \n",
       "daily_caller    [1, 2, 3, 4, 5, 6, 7, 8, 9, 10, 11, 12, 13, 14...  \n",
       "call_started    [8:00:00 AM, 8:02:42 AM, 8:08:24 AM, 8:09:37 A...  \n",
       "call_answered   [8:00:00 AM, 8:02:42 AM, 8:08:24 AM, 8:09:37 A...  \n",
       "call_ended      [8:14:22 AM, 8:07:31 AM, 8:10:13 AM, 8:13:45 A...  \n",
       "wait_length     [0, 72, 67, 34, 149, 68, 148, 35, 166, 146, 56...  \n",
       "service_length  [863, 289, 108, 247, 258, 340, 656, 341, 23, 5...  \n",
       "meets_standard                                      [True, False]  "
      ]
     },
     "metadata": {},
     "output_type": "display_data"
    },
    {
     "ename": "ValueError",
     "evalue": "Length of EnumType vectors must match length of `data` when both are used, but `data` has length 51708 and the vector passed to `y` has length 7.",
     "output_type": "error",
     "traceback": [
      "\u001b[31m---------------------------------------------------------------------------\u001b[39m",
      "\u001b[31mValueError\u001b[39m                                Traceback (most recent call last)",
      "\u001b[36mCell\u001b[39m\u001b[36m \u001b[39m\u001b[32mIn[23]\u001b[39m\u001b[32m, line 6\u001b[39m\n\u001b[32m      1\u001b[39m \u001b[38;5;28;01mfrom\u001b[39;00m\u001b[38;5;250m \u001b[39m\u001b[34;01mcalendar\u001b[39;00m\u001b[38;5;250m \u001b[39m\u001b[38;5;28;01mimport\u001b[39;00m Day\n\u001b[32m      4\u001b[39m lh.overview(df)\n\u001b[32m----> \u001b[39m\u001b[32m6\u001b[39m \u001b[43mlh\u001b[49m\u001b[43m.\u001b[49m\u001b[43mnumplots\u001b[49m\u001b[43m(\u001b[49m\u001b[43mDay\u001b[49m\u001b[43m,\u001b[49m\u001b[43m \u001b[49m\u001b[43mdf\u001b[49m\u001b[43m,\u001b[49m\u001b[43m \u001b[49m\u001b[43mkey\u001b[49m\u001b[43m=\u001b[49m\u001b[33;43m\"\u001b[39;49m\u001b[33;43mcall_answered\u001b[39;49m\u001b[33;43m\"\u001b[39;49m\u001b[43m)\u001b[49m\n",
      "\u001b[36mFile \u001b[39m\u001b[32m~\\Documents\\Python\\DPP_Callcenter\\src\\dpp\\little_helper_dan.py:38\u001b[39m, in \u001b[36mnumplots\u001b[39m\u001b[34m(col, data, key)\u001b[39m\n\u001b[32m     36\u001b[39m check_required_packages(needed_packages)\n\u001b[32m     37\u001b[39m fig, ax = plt.subplots(ncols=\u001b[32m3\u001b[39m, figsize=(\u001b[32m16\u001b[39m,\u001b[32m3\u001b[39m))\n\u001b[32m---> \u001b[39m\u001b[32m38\u001b[39m \u001b[43msns\u001b[49m\u001b[43m.\u001b[49m\u001b[43mboxplot\u001b[49m\u001b[43m(\u001b[49m\u001b[43mdata\u001b[49m\u001b[43m=\u001b[49m\u001b[43mdata\u001b[49m\u001b[43m,\u001b[49m\u001b[43m \u001b[49m\u001b[43my\u001b[49m\u001b[43m=\u001b[49m\u001b[43mcol\u001b[49m\u001b[43m,\u001b[49m\u001b[43m \u001b[49m\u001b[43mx\u001b[49m\u001b[43m=\u001b[49m\u001b[43mkey\u001b[49m\u001b[43m,\u001b[49m\u001b[43m \u001b[49m\u001b[43max\u001b[49m\u001b[43m=\u001b[49m\u001b[43max\u001b[49m\u001b[43m[\u001b[49m\u001b[32;43m0\u001b[39;49m\u001b[43m]\u001b[49m\u001b[43m)\u001b[49m\n\u001b[32m     39\u001b[39m data.groupby(key)[col].plot(kind=\u001b[33m'\u001b[39m\u001b[33mhist\u001b[39m\u001b[33m'\u001b[39m, bins=\u001b[32m20\u001b[39m, ax=ax[\u001b[32m1\u001b[39m], alpha=\u001b[32m0.5\u001b[39m, density=\u001b[38;5;28;01mTrue\u001b[39;00m)\n\u001b[32m     40\u001b[39m data.groupby(key)[col].plot(kind=\u001b[33m'\u001b[39m\u001b[33mkde\u001b[39m\u001b[33m'\u001b[39m, ax=ax[\u001b[32m2\u001b[39m])\n",
      "\u001b[36mFile \u001b[39m\u001b[32mc:\\Users\\avtma\\Documents\\Python\\DPP_Callcenter\\.venv\\Lib\\site-packages\\seaborn\\categorical.py:1597\u001b[39m, in \u001b[36mboxplot\u001b[39m\u001b[34m(data, x, y, hue, order, hue_order, orient, color, palette, saturation, fill, dodge, width, gap, whis, linecolor, linewidth, fliersize, hue_norm, native_scale, log_scale, formatter, legend, ax, **kwargs)\u001b[39m\n\u001b[32m   1589\u001b[39m \u001b[38;5;28;01mdef\u001b[39;00m\u001b[38;5;250m \u001b[39m\u001b[34mboxplot\u001b[39m(\n\u001b[32m   1590\u001b[39m     data=\u001b[38;5;28;01mNone\u001b[39;00m, *, x=\u001b[38;5;28;01mNone\u001b[39;00m, y=\u001b[38;5;28;01mNone\u001b[39;00m, hue=\u001b[38;5;28;01mNone\u001b[39;00m, order=\u001b[38;5;28;01mNone\u001b[39;00m, hue_order=\u001b[38;5;28;01mNone\u001b[39;00m,\n\u001b[32m   1591\u001b[39m     orient=\u001b[38;5;28;01mNone\u001b[39;00m, color=\u001b[38;5;28;01mNone\u001b[39;00m, palette=\u001b[38;5;28;01mNone\u001b[39;00m, saturation=\u001b[32m.75\u001b[39m, fill=\u001b[38;5;28;01mTrue\u001b[39;00m,\n\u001b[32m   (...)\u001b[39m\u001b[32m   1594\u001b[39m     legend=\u001b[33m\"\u001b[39m\u001b[33mauto\u001b[39m\u001b[33m\"\u001b[39m, ax=\u001b[38;5;28;01mNone\u001b[39;00m, **kwargs\n\u001b[32m   1595\u001b[39m ):\n\u001b[32m-> \u001b[39m\u001b[32m1597\u001b[39m     p = \u001b[43m_CategoricalPlotter\u001b[49m\u001b[43m(\u001b[49m\n\u001b[32m   1598\u001b[39m \u001b[43m        \u001b[49m\u001b[43mdata\u001b[49m\u001b[43m=\u001b[49m\u001b[43mdata\u001b[49m\u001b[43m,\u001b[49m\n\u001b[32m   1599\u001b[39m \u001b[43m        \u001b[49m\u001b[43mvariables\u001b[49m\u001b[43m=\u001b[49m\u001b[38;5;28;43mdict\u001b[39;49m\u001b[43m(\u001b[49m\u001b[43mx\u001b[49m\u001b[43m=\u001b[49m\u001b[43mx\u001b[49m\u001b[43m,\u001b[49m\u001b[43m \u001b[49m\u001b[43my\u001b[49m\u001b[43m=\u001b[49m\u001b[43my\u001b[49m\u001b[43m,\u001b[49m\u001b[43m \u001b[49m\u001b[43mhue\u001b[49m\u001b[43m=\u001b[49m\u001b[43mhue\u001b[49m\u001b[43m)\u001b[49m\u001b[43m,\u001b[49m\n\u001b[32m   1600\u001b[39m \u001b[43m        \u001b[49m\u001b[43morder\u001b[49m\u001b[43m=\u001b[49m\u001b[43morder\u001b[49m\u001b[43m,\u001b[49m\n\u001b[32m   1601\u001b[39m \u001b[43m        \u001b[49m\u001b[43morient\u001b[49m\u001b[43m=\u001b[49m\u001b[43morient\u001b[49m\u001b[43m,\u001b[49m\n\u001b[32m   1602\u001b[39m \u001b[43m        \u001b[49m\u001b[43mcolor\u001b[49m\u001b[43m=\u001b[49m\u001b[43mcolor\u001b[49m\u001b[43m,\u001b[49m\n\u001b[32m   1603\u001b[39m \u001b[43m        \u001b[49m\u001b[43mlegend\u001b[49m\u001b[43m=\u001b[49m\u001b[43mlegend\u001b[49m\u001b[43m,\u001b[49m\n\u001b[32m   1604\u001b[39m \u001b[43m    \u001b[49m\u001b[43m)\u001b[49m\n\u001b[32m   1606\u001b[39m     \u001b[38;5;28;01mif\u001b[39;00m ax \u001b[38;5;129;01mis\u001b[39;00m \u001b[38;5;28;01mNone\u001b[39;00m:\n\u001b[32m   1607\u001b[39m         ax = plt.gca()\n",
      "\u001b[36mFile \u001b[39m\u001b[32mc:\\Users\\avtma\\Documents\\Python\\DPP_Callcenter\\.venv\\Lib\\site-packages\\seaborn\\categorical.py:67\u001b[39m, in \u001b[36m_CategoricalPlotter.__init__\u001b[39m\u001b[34m(self, data, variables, order, orient, require_numeric, color, legend)\u001b[39m\n\u001b[32m     56\u001b[39m \u001b[38;5;28;01mdef\u001b[39;00m\u001b[38;5;250m \u001b[39m\u001b[34m__init__\u001b[39m(\n\u001b[32m     57\u001b[39m     \u001b[38;5;28mself\u001b[39m,\n\u001b[32m     58\u001b[39m     data=\u001b[38;5;28;01mNone\u001b[39;00m,\n\u001b[32m   (...)\u001b[39m\u001b[32m     64\u001b[39m     legend=\u001b[33m\"\u001b[39m\u001b[33mauto\u001b[39m\u001b[33m\"\u001b[39m,\n\u001b[32m     65\u001b[39m ):\n\u001b[32m---> \u001b[39m\u001b[32m67\u001b[39m     \u001b[38;5;28;43msuper\u001b[39;49m\u001b[43m(\u001b[49m\u001b[43m)\u001b[49m\u001b[43m.\u001b[49m\u001b[34;43m__init__\u001b[39;49m\u001b[43m(\u001b[49m\u001b[43mdata\u001b[49m\u001b[43m=\u001b[49m\u001b[43mdata\u001b[49m\u001b[43m,\u001b[49m\u001b[43m \u001b[49m\u001b[43mvariables\u001b[49m\u001b[43m=\u001b[49m\u001b[43mvariables\u001b[49m\u001b[43m)\u001b[49m\n\u001b[32m     69\u001b[39m     \u001b[38;5;66;03m# This method takes care of some bookkeeping that is necessary because the\u001b[39;00m\n\u001b[32m     70\u001b[39m     \u001b[38;5;66;03m# original categorical plots (prior to the 2021 refactor) had some rules that\u001b[39;00m\n\u001b[32m     71\u001b[39m     \u001b[38;5;66;03m# don't fit exactly into VectorPlotter logic. It may be wise to have a second\u001b[39;00m\n\u001b[32m   (...)\u001b[39m\u001b[32m     76\u001b[39m     \u001b[38;5;66;03m# default VectorPlotter rules. If we do decide to make orient part of the\u001b[39;00m\n\u001b[32m     77\u001b[39m     \u001b[38;5;66;03m# _base variable assignment, we'll want to figure out how to express that.\u001b[39;00m\n\u001b[32m     78\u001b[39m     \u001b[38;5;28;01mif\u001b[39;00m \u001b[38;5;28mself\u001b[39m.input_format == \u001b[33m\"\u001b[39m\u001b[33mwide\u001b[39m\u001b[33m\"\u001b[39m \u001b[38;5;129;01mand\u001b[39;00m orient \u001b[38;5;129;01min\u001b[39;00m [\u001b[33m\"\u001b[39m\u001b[33mh\u001b[39m\u001b[33m\"\u001b[39m, \u001b[33m\"\u001b[39m\u001b[33my\u001b[39m\u001b[33m\"\u001b[39m]:\n",
      "\u001b[36mFile \u001b[39m\u001b[32mc:\\Users\\avtma\\Documents\\Python\\DPP_Callcenter\\.venv\\Lib\\site-packages\\seaborn\\_base.py:634\u001b[39m, in \u001b[36mVectorPlotter.__init__\u001b[39m\u001b[34m(self, data, variables)\u001b[39m\n\u001b[32m    629\u001b[39m \u001b[38;5;66;03m# var_ordered is relevant only for categorical axis variables, and may\u001b[39;00m\n\u001b[32m    630\u001b[39m \u001b[38;5;66;03m# be better handled by an internal axis information object that tracks\u001b[39;00m\n\u001b[32m    631\u001b[39m \u001b[38;5;66;03m# such information and is set up by the scale_* methods. The analogous\u001b[39;00m\n\u001b[32m    632\u001b[39m \u001b[38;5;66;03m# information for numeric axes would be information about log scales.\u001b[39;00m\n\u001b[32m    633\u001b[39m \u001b[38;5;28mself\u001b[39m._var_ordered = {\u001b[33m\"\u001b[39m\u001b[33mx\u001b[39m\u001b[33m\"\u001b[39m: \u001b[38;5;28;01mFalse\u001b[39;00m, \u001b[33m\"\u001b[39m\u001b[33my\u001b[39m\u001b[33m\"\u001b[39m: \u001b[38;5;28;01mFalse\u001b[39;00m}  \u001b[38;5;66;03m# alt., used DefaultDict\u001b[39;00m\n\u001b[32m--> \u001b[39m\u001b[32m634\u001b[39m \u001b[38;5;28;43mself\u001b[39;49m\u001b[43m.\u001b[49m\u001b[43massign_variables\u001b[49m\u001b[43m(\u001b[49m\u001b[43mdata\u001b[49m\u001b[43m,\u001b[49m\u001b[43m \u001b[49m\u001b[43mvariables\u001b[49m\u001b[43m)\u001b[49m\n\u001b[32m    636\u001b[39m \u001b[38;5;66;03m# TODO Lots of tests assume that these are called to initialize the\u001b[39;00m\n\u001b[32m    637\u001b[39m \u001b[38;5;66;03m# mappings to default values on class initialization. I'd prefer to\u001b[39;00m\n\u001b[32m    638\u001b[39m \u001b[38;5;66;03m# move away from that and only have a mapping when explicitly called.\u001b[39;00m\n\u001b[32m    639\u001b[39m \u001b[38;5;28;01mfor\u001b[39;00m var \u001b[38;5;129;01min\u001b[39;00m [\u001b[33m\"\u001b[39m\u001b[33mhue\u001b[39m\u001b[33m\"\u001b[39m, \u001b[33m\"\u001b[39m\u001b[33msize\u001b[39m\u001b[33m\"\u001b[39m, \u001b[33m\"\u001b[39m\u001b[33mstyle\u001b[39m\u001b[33m\"\u001b[39m]:\n",
      "\u001b[36mFile \u001b[39m\u001b[32mc:\\Users\\avtma\\Documents\\Python\\DPP_Callcenter\\.venv\\Lib\\site-packages\\seaborn\\_base.py:679\u001b[39m, in \u001b[36mVectorPlotter.assign_variables\u001b[39m\u001b[34m(self, data, variables)\u001b[39m\n\u001b[32m    674\u001b[39m \u001b[38;5;28;01melse\u001b[39;00m:\n\u001b[32m    675\u001b[39m     \u001b[38;5;66;03m# When dealing with long-form input, use the newer PlotData\u001b[39;00m\n\u001b[32m    676\u001b[39m     \u001b[38;5;66;03m# object (internal but introduced for the objects interface)\u001b[39;00m\n\u001b[32m    677\u001b[39m     \u001b[38;5;66;03m# to centralize / standardize data consumption logic.\u001b[39;00m\n\u001b[32m    678\u001b[39m     \u001b[38;5;28mself\u001b[39m.input_format = \u001b[33m\"\u001b[39m\u001b[33mlong\u001b[39m\u001b[33m\"\u001b[39m\n\u001b[32m--> \u001b[39m\u001b[32m679\u001b[39m     plot_data = \u001b[43mPlotData\u001b[49m\u001b[43m(\u001b[49m\u001b[43mdata\u001b[49m\u001b[43m,\u001b[49m\u001b[43m \u001b[49m\u001b[43mvariables\u001b[49m\u001b[43m)\u001b[49m\n\u001b[32m    680\u001b[39m     frame = plot_data.frame\n\u001b[32m    681\u001b[39m     names = plot_data.names\n",
      "\u001b[36mFile \u001b[39m\u001b[32mc:\\Users\\avtma\\Documents\\Python\\DPP_Callcenter\\.venv\\Lib\\site-packages\\seaborn\\_core\\data.py:58\u001b[39m, in \u001b[36mPlotData.__init__\u001b[39m\u001b[34m(self, data, variables)\u001b[39m\n\u001b[32m     51\u001b[39m \u001b[38;5;28;01mdef\u001b[39;00m\u001b[38;5;250m \u001b[39m\u001b[34m__init__\u001b[39m(\n\u001b[32m     52\u001b[39m     \u001b[38;5;28mself\u001b[39m,\n\u001b[32m     53\u001b[39m     data: DataSource,\n\u001b[32m     54\u001b[39m     variables: \u001b[38;5;28mdict\u001b[39m[\u001b[38;5;28mstr\u001b[39m, VariableSpec],\n\u001b[32m     55\u001b[39m ):\n\u001b[32m     57\u001b[39m     data = handle_data_source(data)\n\u001b[32m---> \u001b[39m\u001b[32m58\u001b[39m     frame, names, ids = \u001b[38;5;28;43mself\u001b[39;49m\u001b[43m.\u001b[49m\u001b[43m_assign_variables\u001b[49m\u001b[43m(\u001b[49m\u001b[43mdata\u001b[49m\u001b[43m,\u001b[49m\u001b[43m \u001b[49m\u001b[43mvariables\u001b[49m\u001b[43m)\u001b[49m\n\u001b[32m     60\u001b[39m     \u001b[38;5;28mself\u001b[39m.frame = frame\n\u001b[32m     61\u001b[39m     \u001b[38;5;28mself\u001b[39m.names = names\n",
      "\u001b[36mFile \u001b[39m\u001b[32mc:\\Users\\avtma\\Documents\\Python\\DPP_Callcenter\\.venv\\Lib\\site-packages\\seaborn\\_core\\data.py:251\u001b[39m, in \u001b[36mPlotData._assign_variables\u001b[39m\u001b[34m(self, data, variables)\u001b[39m\n\u001b[32m    245\u001b[39m         val_cls = val.\u001b[34m__class__\u001b[39m.\u001b[34m__name__\u001b[39m\n\u001b[32m    246\u001b[39m         err = (\n\u001b[32m    247\u001b[39m             \u001b[33mf\u001b[39m\u001b[33m\"\u001b[39m\u001b[33mLength of \u001b[39m\u001b[38;5;132;01m{\u001b[39;00mval_cls\u001b[38;5;132;01m}\u001b[39;00m\u001b[33m vectors must match length of `data`\u001b[39m\u001b[33m\"\u001b[39m\n\u001b[32m    248\u001b[39m             \u001b[33mf\u001b[39m\u001b[33m\"\u001b[39m\u001b[33m when both are used, but `data` has length \u001b[39m\u001b[38;5;132;01m{\u001b[39;00m\u001b[38;5;28mlen\u001b[39m(data)\u001b[38;5;132;01m}\u001b[39;00m\u001b[33m\"\u001b[39m\n\u001b[32m    249\u001b[39m             \u001b[33mf\u001b[39m\u001b[33m\"\u001b[39m\u001b[33m and the vector passed to `\u001b[39m\u001b[38;5;132;01m{\u001b[39;00mkey\u001b[38;5;132;01m}\u001b[39;00m\u001b[33m` has length \u001b[39m\u001b[38;5;132;01m{\u001b[39;00m\u001b[38;5;28mlen\u001b[39m(val)\u001b[38;5;132;01m}\u001b[39;00m\u001b[33m.\u001b[39m\u001b[33m\"\u001b[39m\n\u001b[32m    250\u001b[39m         )\n\u001b[32m--> \u001b[39m\u001b[32m251\u001b[39m         \u001b[38;5;28;01mraise\u001b[39;00m \u001b[38;5;167;01mValueError\u001b[39;00m(err)\n\u001b[32m    253\u001b[39m plot_data[key] = val\n\u001b[32m    255\u001b[39m \u001b[38;5;66;03m# Try to infer the original name using pandas-like metadata\u001b[39;00m\n",
      "\u001b[31mValueError\u001b[39m: Length of EnumType vectors must match length of `data` when both are used, but `data` has length 51708 and the vector passed to `y` has length 7."
     ]
    },
    {
     "data": {
      "image/png": "[encoded data removed]",
      "text/plain": [
       "<Figure size 1600x300 with 3 Axes>"
      ]
     },
     "metadata": {},
     "output_type": "display_data"
    }
   ],
   "source": [
    "from calendar import Day\n",
    "\n",
    "\n",
    "lh.overview(df)\n",
    "\n",
    "lh.numplots(Day, df, key=\"call_answered\")"
   ]
  }
 ],
 "metadata": {
  "kernelspec": {
   "display_name": "dpp (3.12.11)",
   "language": "python",
   "name": "python3"
  },
  "language_info": {
   "codemirror_mode": {
    "name": "ipython",
    "version": 3
   },
   "file_extension": ".py",
   "mimetype": "text/x-python",
   "name": "python",
   "nbconvert_exporter": "python",
   "pygments_lexer": "ipython3",
   "version": "3.12.11"
  }
 },
 "nbformat": 4,
 "nbformat_minor": 5
}
